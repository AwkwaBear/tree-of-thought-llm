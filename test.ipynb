{
 "cells": [
  {
   "cell_type": "markdown",
   "metadata": {},
   "source": [
    "# Environment setup\n",
    "- Install WSL Ubuntu\n",
    "- Connect via VScode\n",
    "    - Install extensions for VScode:\n",
    "        - WSL\n",
    "        - Jupyternotebooks\n",
    "        - Python\n",
    "- Install miniconda:\n",
    "    - `mkdir -p ~/miniconda3`\n",
    "    - `wget https://repo.anaconda.com/miniconda/Miniconda3-latest-Linux-x86_64.sh -O ~/miniconda3/miniconda.sh`\n",
    "    - `bash ~/miniconda3/miniconda.sh -b -u -p ~/miniconda3`\n",
    "    - `rm ~/miniconda3/miniconda.sh`\n",
    "- `conda create -n tot python=3.10 python-dotenv ipykernel`\n",
    "- `conda activate tot`\n",
    "- Clone git repo and install Tree of Thought library\n",
    "    - `git clone https://github.com/princeton-nlp/tree-of-thought-llm`\n",
    "    - `cd tree-of-thought-llm`\n",
    "    - `pip install -r requirements.txt`\n",
    "    - `pip install -e .`\n",
    "- Add `.env` file with `OPENAI_API_KEY`"
   ]
  },
  {
   "cell_type": "code",
   "execution_count": 1,
   "metadata": {},
   "outputs": [
    {
     "data": {
      "text/plain": [
       "True"
      ]
     },
     "execution_count": 1,
     "metadata": {},
     "output_type": "execute_result"
    }
   ],
   "source": [
    "from dotenv import load_dotenv\n",
    "import os\n",
    "load_dotenv()"
   ]
  },
  {
   "cell_type": "code",
   "execution_count": 3,
   "metadata": {},
   "outputs": [
    {
     "name": "stdout",
     "output_type": "stream",
     "text": [
      "Traceback (most recent call last):\n",
      "  File \"/home/awkwabear/tree-of-thought-llm/run.py\", line 5, in <module>\n",
      "    from tot.tasks import get_task\n",
      "ModuleNotFoundError: No module named 'tot'\n"
     ]
    }
   ],
   "source": [
    "!sh scripts/crosswords/standard_sampling.sh"
   ]
  }
 ],
 "metadata": {
  "kernelspec": {
   "display_name": "tot",
   "language": "python",
   "name": "python3"
  },
  "language_info": {
   "codemirror_mode": {
    "name": "ipython",
    "version": 3
   },
   "file_extension": ".py",
   "mimetype": "text/x-python",
   "name": "python",
   "nbconvert_exporter": "python",
   "pygments_lexer": "ipython3",
   "version": "3.10.15"
  }
 },
 "nbformat": 4,
 "nbformat_minor": 2
}
