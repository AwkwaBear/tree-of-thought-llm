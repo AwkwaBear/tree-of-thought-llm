{
 "cells": [
  {
   "cell_type": "code",
   "execution_count": 1,
   "metadata": {},
   "outputs": [
    {
     "name": "stdout",
     "output_type": "stream",
     "text": [
      "Will print true if the .env file is loaded, false if not\n"
     ]
    },
    {
     "data": {
      "text/plain": [
       "True"
      ]
     },
     "execution_count": 1,
     "metadata": {},
     "output_type": "execute_result"
    }
   ],
   "source": [
    "from dotenv import load_dotenv\n",
    "import os\n",
    "\n",
    "# Load environment variables from the .env file\n",
    "print(\"Will print true if the .env file is loaded, false if not\")\n",
    "load_dotenv()\n",
    "\n",
    "\n",
    "# print(f\"Hugging Face API Token: {os.getenv(\"HF_API_TOKEN\")} \")\n",
    "# print(f\"OpenAI API Key: {os.getenv(\"OPENAI_API_KEY\")} \")"
   ]
  },
  {
   "cell_type": "code",
   "execution_count": 2,
   "metadata": {},
   "outputs": [
    {
     "name": "stdout",
     "output_type": "stream",
     "text": [
      "functools.partial(<function gpt at 0x74c79d15fac0>, model='gpt-4', temperature=0.7)\n",
      "-- new_ys --: ('6 - 4 = 2 (left: 2 5 10)\\n', '10 - 4 = 6 (left: 5 6 6)\\n', '10 - 5 = 5 (left: 4 5 6)\\n', '4 + 5 = 9 (left: 6 9 10)\\n', '4 * 5 = 20 (left: 6 10 20)\\n', '10 / 4 = 2.5 (left: 2.5 5 6)\\n', '5 * 4 = 20 (left: 6 10 20)\\n', '6 / 4 = 1.5 (left: 1.5 5 10)\\n')\n",
      "-- sol values --: (3.0, 3.0, 3.0, 2.001, 2.001, 2.001, 2.001, 1.002)\n",
      "-- choices --: ['6 - 4 = 2 (left: 2 5 10)\\n', '10 - 4 = 6 (left: 5 6 6)\\n', '10 - 5 = 5 (left: 4 5 6)\\n', '4 + 5 = 9 (left: 6 9 10)\\n', '4 * 5 = 20 (left: 6 10 20)\\n']\n",
      "\n",
      "-- new_ys --: ('10 - 4 = 6 (left: 5 6 6)\\n5 * 6 = 30 (left: 6 30)\\n', '4 * 5 = 20 (left: 6 10 20)\\n10 - 6 = 4 (left: 4 20)\\n', '4 * 5 = 20 (left: 6 10 20)\\n20 - 6 = 14 (left: 10 14)\\n', '10 - 4 = 6 (left: 5 6 6)\\n6 / 5 = 1.2 (left: 1.2 6)\\n', '10 - 5 = 5 (left: 4 5 6)\\n5 / 4 = 1.25 (left: 1.25 6)\\n', '6 - 4 = 2 (left: 2 5 10)\\n2 + 5 = 7 (left: 7 10)\\n', '6 - 4 = 2 (left: 2 5 10)\\n5 - 2 = 3 (left: 3 10)\\n', '6 - 4 = 2 (left: 2 5 10)\\n10 / 2 = 5 (left: 5 5)\\n', '6 - 4 = 2 (left: 2 5 10)\\n2 * 5 = 10 (left: 10 10)\\n', '6 - 4 = 2 (left: 2 5 10)\\n10 - 2 = 8 (left: 5 8)\\n', '6 - 4 = 2 (left: 2 5 10)\\n10 - 5 = 5 (left: 2 5)\\n', '10 - 4 = 6 (left: 5 6 6)\\n5 + 6 = 11 (left: 6 11)\\n', '10 - 4 = 6 (left: 5 6 6)\\n6 - 5 = 1 (left: 1 6)\\n', '10 - 4 = 6 (left: 5 6 6)\\n6 + 6 = 12 (left: 5 12)\\n', '10 - 4 = 6 (left: 5 6 6)\\n6 - 6 = 0 (left: 5 0)\\n', '10 - 4 = 6 (left: 5 6 6)\\n6 / 6 = 1 (left: 5 1)\\n', '10 - 4 = 6 (left: 5 6 6)\\n6 * 6 = 36 (left: 5 36)\\n', '10 - 5 = 5 (left: 4 5 6)\\n4 + 5 = 9 (left: 6 9)\\n', '10 - 5 = 5 (left: 4 5 6)\\n5 - 4 = 1 (left: 1 6)\\n', '10 - 5 = 5 (left: 4 5 6)\\n6 - 4 = 2 (left: 2 5)\\n', '10 - 5 = 5 (left: 4 5 6)\\n4 * 5 = 20 (left: 6 20)\\n', '10 - 5 = 5 (left: 4 5 6)\\n6 / 4 = 1.5 (left: 1.5 5)\\n', '10 - 5 = 5 (left: 4 5 6)\\n5 * 6 = 30 (left: 4 30)\\n', '10 - 5 = 5 (left: 4 5 6)\\n6 - 5 = 1 (left: 1 4)\\n', '10 - 5 = 5 (left: 4 5 6)\\n4 * 6 = 24 (left: 5 24)\\n', '4 + 5 = 9 (left: 6 9 10)\\n6 + 9 = 15 (left: 10 15)\\n', '4 + 5 = 9 (left: 6 9 10)\\n9 - 6 = 3 (left: 3 10)\\n', '4 + 5 = 9 (left: 6 9 10)\\n10 - 6 = 4 (left: 4 9)\\n', '4 + 5 = 9 (left: 6 9 10)\\n10 - 9 = 1 (left: 1 6)\\n', '4 + 5 = 9 (left: 6 9 10)\\n9 * 6 = 54 (left: 10 54)\\n', '4 + 5 = 9 (left: 6 9 10)\\n10 / 6 = 1.67 (approx) (left: 1.67 9)\\n', '4 + 5 = 9 (left: 6 9 10)\\n6 * 10 = 60 (left: 9 60)\\n', '4 + 5 = 9 (left: 6 9 10)\\n10 + 6 = 16 (left: 9 16)\\n', '4 + 5 = 9 (left: 6 9 10)\\n9 + 6 = 15 (left: 10 15)\\n', '4 * 5 = 20 (left: 6 10 20)\\n6 + 10 = 16 (left: 16 20)\\n', '4 * 5 = 20 (left: 6 10 20)\\n20 - 10 = 10 (left: 6 10)\\n', '4 * 5 = 20 (left: 6 10 20)\\n10 * 6 = 60 (left: 20 60)\\n', '4 * 5 = 20 (left: 6 10 20)\\n20 / 10 = 2 (left: 2 6)\\n', '4 * 5 = 20 (left: 6 10 20)\\n20 / 6 = 3.33 (left: 3.33 10)\\n', '4 * 5 = 20 (left: 6 10 20)\\n20 * 6 = 120 (left: 10 120)\\n', '4 * 5 = 20 (left: 6 10 20)\\n10 * 20 = 200 (left: 6 200)\\n')\n",
      "-- sol values --: (60.0, 60.0, 60.0, 1.002, 1.002, 0.003, 0.003, 0.003, 0.003, 0.003, 0.003, 0.003, 0.003, 0.003, 0.003, 0.003, 0.003, 0.003, 0.003, 0.003, 0.003, 0.003, 0.003, 0.003, 0.003, 0.003, 0.003, 0.003, 0.003, 0.003, 0.003, 0.003, 0.003, 0.003, 0.003, 0.003, 0.003, 0.003, 0.003, 0.003, 0.003)\n",
      "-- choices --: ['10 - 4 = 6 (left: 5 6 6)\\n5 * 6 = 30 (left: 6 30)\\n', '4 * 5 = 20 (left: 6 10 20)\\n10 - 6 = 4 (left: 4 20)\\n', '4 * 5 = 20 (left: 6 10 20)\\n20 - 6 = 14 (left: 10 14)\\n', '10 - 4 = 6 (left: 5 6 6)\\n6 / 5 = 1.2 (left: 1.2 6)\\n', '10 - 5 = 5 (left: 4 5 6)\\n5 / 4 = 1.25 (left: 1.25 6)\\n']\n",
      "\n",
      "-- new_ys --: ('10 - 4 = 6 (left: 5 6 6)\\n5 * 6 = 30 (left: 6 30)\\n30 - 6 = 24 (left: 24)\\n', '4 * 5 = 20 (left: 6 10 20)\\n10 - 6 = 4 (left: 4 20)\\n4 + 20 = 24 (left: 24)\\n', '4 * 5 = 20 (left: 6 10 20)\\n20 - 6 = 14 (left: 10 14)\\n10 + 14 = 24 (left: 24)\\n', '4 * 5 = 20 (left: 6 10 20)\\n20 - 6 = 14 (left: 10 14)\\n14 - 10 = 4 (left: 4)\\n', '10 - 5 = 5 (left: 4 5 6)\\n5 / 4 = 1.25 (left: 1.25 6)\\n1.25 + 6 = 7.25 (left: 7.25)\\n', '10 - 4 = 6 (left: 5 6 6)\\n5 * 6 = 30 (left: 6 30)\\n6 + 30 = 36 (left: 36)\\n', '10 - 4 = 6 (left: 5 6 6)\\n5 * 6 = 30 (left: 6 30)\\n6 * 30 = 180 (left: 180)\\n', '4 * 5 = 20 (left: 6 10 20)\\n10 - 6 = 4 (left: 4 20)\\n4 * 20 = 80 (left: 80)\\n', '4 * 5 = 20 (left: 6 10 20)\\n10 - 6 = 4 (left: 4 20)\\n20 - 4 = 16 (left: 16)\\n', '4 * 5 = 20 (left: 6 10 20)\\n20 - 6 = 14 (left: 10 14)\\n10 * 14 = 140 (left: 140)\\n', '10 - 4 = 6 (left: 5 6 6)\\n6 / 5 = 1.2 (left: 1.2 6)\\n1.2 + 6 = 7.2 (left: 7.2)\\n', '10 - 4 = 6 (left: 5 6 6)\\n6 / 5 = 1.2 (left: 1.2 6)\\n1.2 * 6 = 7.2 (left: 7.2)\\n', '10 - 5 = 5 (left: 4 5 6)\\n5 / 4 = 1.25 (left: 1.25 6)\\n1.25 * 6 = 7.5 (left: 7.5)\\n', '10 - 4 = 6 (left: 5 6 6)\\n5 * 6 = 30 (left: 6 30)\\n30 / 6 = 5 (left: 5)\\n', '4 * 5 = 20 (left: 6 10 20)\\n10 - 6 = 4 (left: 4 20)\\n20 / 4 = 5 (left: 5)\\n', '4 * 5 = 20 (left: 6 10 20)\\n20 - 6 = 14 (left: 10 14)\\n14 / 10 = 1.4 (left: 1.4)\\n', '10 - 4 = 6 (left: 5 6 6)\\n6 / 5 = 1.2 (left: 1.2 6)\\n6 - 1.2 = 4.8 (left: 4.8)\\n', '10 - 4 = 6 (left: 5 6 6)\\n6 / 5 = 1.2 (left: 1.2 6)\\n6 / 1.2 = 5 (left: 5)\\n', '10 - 5 = 5 (left: 4 5 6)\\n5 / 4 = 1.25 (left: 1.25 6)\\n6 / 1.25 = 4.8 (left: 4.8)\\n', '10 - 5 = 5 (left: 4 5 6)\\n5 / 4 = 1.25 (left: 1.25 6)\\n6 - 1.25 = 4.75 (left: 4.75)\\n')\n",
      "-- sol values --: (60.0, 60.0, 60.0, 20.002, 1.002, 0.003, 0.003, 0.003, 0.003, 0.003, 0.003, 0.003, 0.003, 0.002, 0.002, 0.002, 0.002, 0.002, 0.002, 0.002)\n",
      "-- choices --: ['10 - 4 = 6 (left: 5 6 6)\\n5 * 6 = 30 (left: 6 30)\\n30 - 6 = 24 (left: 24)\\n', '4 * 5 = 20 (left: 6 10 20)\\n10 - 6 = 4 (left: 4 20)\\n4 + 20 = 24 (left: 24)\\n', '4 * 5 = 20 (left: 6 10 20)\\n20 - 6 = 14 (left: 10 14)\\n10 + 14 = 24 (left: 24)\\n', '4 * 5 = 20 (left: 6 10 20)\\n20 - 6 = 14 (left: 10 14)\\n14 - 10 = 4 (left: 4)\\n', '10 - 5 = 5 (left: 4 5 6)\\n5 / 4 = 1.25 (left: 1.25 6)\\n1.25 + 6 = 7.25 (left: 7.25)\\n']\n",
      "\n",
      "-- new_ys --: ('10 - 4 = 6 (left: 5 6 6)\\n5 * 6 = 30 (left: 6 30)\\n30 - 6 = 24 (left: 24)\\nAnswer: (5 * (10 - 4)) - 6 = 24\\n', '4 * 5 = 20 (left: 6 10 20)\\n10 - 6 = 4 (left: 4 20)\\n4 + 20 = 24 (left: 24)\\nAnswer: (4 * 5) + (10 - 6) = 24\\n', '4 * 5 = 20 (left: 6 10 20)\\n20 - 6 = 14 (left: 10 14)\\n10 + 14 = 24 (left: 24)\\nAnswer: (4 * 5) - 6 + 10 = 24\\n', '4 * 5 = 20 (left: 6 10 20)\\n20 - 6 = 14 (left: 10 14)\\n14 - 10 = 4 (left: 4)\\n4 + 10 = 14 (left: 8 14 14)\\n', '4 * 5 = 20 (left: 6 10 20)\\n20 - 6 = 14 (left: 10 14)\\n14 - 10 = 4 (left: 4)\\n4 + 4 = 8 (left: 8 8 14)\\n', '4 * 5 = 20 (left: 6 10 20)\\n20 - 6 = 14 (left: 10 14)\\n14 - 10 = 4 (left: 4)\\n16 + 4 = 20 (left: 8 8 20)\\n', '4 * 5 = 20 (left: 6 10 20)\\n20 - 6 = 14 (left: 10 14)\\n14 - 10 = 4 (left: 4)\\n16 - 4 = 12 (left: 8 12 14)\\n', '4 * 5 = 20 (left: 6 10 20)\\n20 - 6 = 14 (left: 10 14)\\n14 - 10 = 4 (left: 4)\\n6 + 4 = 10 (left: 8 10 14)\\n', '4 * 5 = 20 (left: 6 10 20)\\n20 - 6 = 14 (left: 10 14)\\n14 - 10 = 4 (left: 4)\\n8 + 4 = 12 (left: 8 12 14)\\n', '4 * 5 = 20 (left: 6 10 20)\\n20 - 6 = 14 (left: 10 14)\\n14 - 10 = 4 (left: 4)\\n7 + 4 = 11 (left: 8 8 11)\\n', '4 * 5 = 20 (left: 6 10 20)\\n20 - 6 = 14 (left: 10 14)\\n14 - 10 = 4 (left: 4)\\n12 + 4 = 16 (left: 8 8 16)\\n', '4 * 5 = 20 (left: 6 10 20)\\n20 - 6 = 14 (left: 10 14)\\n14 - 10 = 4 (left: 4)\\n4 * 10 = 40 (left: 8 14 40)\\n', '4 * 5 = 20 (left: 6 10 20)\\n20 - 6 = 14 (left: 10 14)\\n14 - 10 = 4 (left: 4)\\n4 * 4 = 16 (left: 8 16 14)\\n', '4 * 5 = 20 (left: 6 10 20)\\n20 - 6 = 14 (left: 10 14)\\n14 - 10 = 4 (left: 4)\\n16 * 4 = 64 (left: 8 8 64)\\n', '4 * 5 = 20 (left: 6 10 20)\\n20 - 6 = 14 (left: 10 14)\\n14 - 10 = 4 (left: 4)\\n6 * 4 = 24 (left: 8 14 24)\\n', '4 * 5 = 20 (left: 6 10 20)\\n20 - 6 = 14 (left: 10 14)\\n14 - 10 = 4 (left: 4)\\n8 * 4 = 32 (left: 8 14 32)\\n', '4 * 5 = 20 (left: 6 10 20)\\n20 - 6 = 14 (left: 10 14)\\n14 - 10 = 4 (left: 4)\\n7 * 4 = 28 (left: 8 8 28)\\n', '4 * 5 = 20 (left: 6 10 20)\\n20 - 6 = 14 (left: 10 14)\\n14 - 10 = 4 (left: 4)\\n12 * 4 = 48 (left: 8 8 48)\\n', '4 * 5 = 20 (left: 6 10 20)\\n20 - 6 = 14 (left: 10 14)\\n14 - 10 = 4 (left: 4)\\n10 - 4 = 6 (left: 6 8 14)\\n', '4 * 5 = 20 (left: 6 10 20)\\n20 - 6 = 14 (left: 10 14)\\n14 - 10 = 4 (left: 4)\\n14 - 4 = 10 (left: 8 10 14)\\n', '4 * 5 = 20 (left: 6 10 20)\\n20 - 6 = 14 (left: 10 14)\\n14 - 10 = 4 (left: 4)\\n4 / 2 = 2 (left: 2 8 14)\\n', '10 - 5 = 5 (left: 4 5 6)\\n5 / 4 = 1.25 (left: 1.25 6)\\n1.25 + 6 = 7.25 (left: 7.25)\\nThere are no possible next steps as 7.25 is a single number and no operation can be performed.\\n')\n",
      "-- sol values --: (60.0, 60.0, 60.0, 0, 0, 0, 0, 0, 0, 0, 0, 0, 0, 0, 0, 0, 0, 0, 0, 0, 0, 0)\n",
      "-- choices --: ['10 - 4 = 6 (left: 5 6 6)\\n5 * 6 = 30 (left: 6 30)\\n30 - 6 = 24 (left: 24)\\nAnswer: (5 * (10 - 4)) - 6 = 24\\n', '4 * 5 = 20 (left: 6 10 20)\\n10 - 6 = 4 (left: 4 20)\\n4 + 20 = 24 (left: 24)\\nAnswer: (4 * 5) + (10 - 6) = 24\\n', '4 * 5 = 20 (left: 6 10 20)\\n20 - 6 = 14 (left: 10 14)\\n10 + 14 = 24 (left: 24)\\nAnswer: (4 * 5) - 6 + 10 = 24\\n', '4 * 5 = 20 (left: 6 10 20)\\n20 - 6 = 14 (left: 10 14)\\n14 - 10 = 4 (left: 4)\\n4 + 10 = 14 (left: 8 14 14)\\n', '4 * 5 = 20 (left: 6 10 20)\\n20 - 6 = 14 (left: 10 14)\\n14 - 10 = 4 (left: 4)\\n4 + 4 = 8 (left: 8 8 14)\\n']\n",
      "\n",
      "['10 - 4 = 6 (left: 5 6 6)\\n5 * 6 = 30 (left: 6 30)\\n30 - 6 = 24 (left: 24)\\nAnswer: (5 * (10 - 4)) - 6 = 24\\n', '4 * 5 = 20 (left: 6 10 20)\\n10 - 6 = 4 (left: 4 20)\\n4 + 20 = 24 (left: 24)\\nAnswer: (4 * 5) + (10 - 6) = 24\\n', '4 * 5 = 20 (left: 6 10 20)\\n20 - 6 = 14 (left: 10 14)\\n10 + 14 = 24 (left: 24)\\nAnswer: (4 * 5) - 6 + 10 = 24\\n', '4 * 5 = 20 (left: 6 10 20)\\n20 - 6 = 14 (left: 10 14)\\n14 - 10 = 4 (left: 4)\\n4 + 10 = 14 (left: 8 14 14)\\n', '4 * 5 = 20 (left: 6 10 20)\\n20 - 6 = 14 (left: 10 14)\\n14 - 10 = 4 (left: 4)\\n4 + 4 = 8 (left: 8 8 14)\\n']\n",
      "10 - 4 = 6 (left: 5 6 6)\n",
      "5 * 6 = 30 (left: 6 30)\n",
      "30 - 6 = 24 (left: 24)\n",
      "Answer: (5 * (10 - 4)) - 6 = 24\n",
      "\n"
     ]
    }
   ],
   "source": [
    "import argparse\n",
    "from tot.methods.bfs import solve\n",
    "from tot.tasks.game24 import Game24Task\n",
    "import os\n",
    "import openai\n",
    " \n",
    "openai.api_key = os.environ[\"OPENAI_API_KEY\"]\n",
    "\n",
    "args = argparse.Namespace(backend='gpt-4', temperature=0.7, task='game24', naive_run=False, prompt_sample=None, method_generate='propose', method_evaluate='value', method_select='greedy', n_generate_sample=1, n_evaluate_sample=3, n_select_sample=5)\n",
    "\n",
    "task = Game24Task()\n",
    "ys, infos = solve(args, task, 900)\n",
    "print(ys[0])"
   ]
  },
  {
   "cell_type": "code",
   "execution_count": null,
   "metadata": {},
   "outputs": [],
   "source": []
  },
  {
   "cell_type": "code",
   "execution_count": null,
   "metadata": {},
   "outputs": [],
   "source": []
  }
 ],
 "metadata": {
  "kernelspec": {
   "display_name": "tot",
   "language": "python",
   "name": "python3"
  },
  "language_info": {
   "codemirror_mode": {
    "name": "ipython",
    "version": 3
   },
   "file_extension": ".py",
   "mimetype": "text/x-python",
   "name": "python",
   "nbconvert_exporter": "python",
   "pygments_lexer": "ipython3",
   "version": "3.10.15"
  }
 },
 "nbformat": 4,
 "nbformat_minor": 2
}
