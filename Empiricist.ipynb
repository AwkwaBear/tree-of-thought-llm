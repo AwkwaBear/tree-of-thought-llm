{
 "cells": [
  {
   "cell_type": "markdown",
   "metadata": {},
   "source": [
    "# Environment setup Guide\n",
    "- Install WSL Ubuntu\n",
    "- Connect via VScode\n",
    "    - Install extensions for VScode:\n",
    "        - WSL\n",
    "        - Jupyter notebooks\n",
    "        - Python\n",
    "        - Prettify JSON (optional)\n",
    "        - Rainbow CSV (optional)\n",
    "- Install miniconda:\n",
    "    - `mkdir -p ~/miniconda3`\n",
    "    - `wget https://repo.anaconda.com/miniconda/Miniconda3-latest-Linux-x86_64.sh -O ~/miniconda3/miniconda.sh`\n",
    "    - `bash ~/miniconda3/miniconda.sh -b -u -p ~/miniconda3`\n",
    "    - `rm ~/miniconda3/miniconda.sh`\n",
    "- Setup Conda environment:\n",
    "    - `conda create -n tot python=3.10 python-dotenv ipykernel`\n",
    "    - `conda activate tot`\n",
    "    - Clone git repo and install Tree of Thought library\n",
    "        - `git clone https://github.com/princeton-nlp/tree-of-thought-llm`\n",
    "        - `cd tree-of-thought-llm`\n",
    "        - `pip install -r requirements.txt`\n",
    "        - `pip install -e .`\n",
    "- Add `.env` file with `OPENAI_API_KEY`"
   ]
  },
  {
   "cell_type": "code",
   "execution_count": 1,
   "metadata": {},
   "outputs": [
    {
     "data": {
      "text/plain": [
       "True"
      ]
     },
     "execution_count": 1,
     "metadata": {},
     "output_type": "execute_result"
    }
   ],
   "source": [
    "from dotenv import load_dotenv\n",
    "import os\n",
    "load_dotenv()"
   ]
  },
  {
   "cell_type": "markdown",
   "metadata": {},
   "source": [
    "# Quick Start\n",
    "The following minimal script will attempt to solve the game of 24 with `4 5 6 10` (might be a bit slow as it's using GPT-4):"
   ]
  },
  {
   "cell_type": "code",
   "execution_count": 2,
   "metadata": {},
   "outputs": [
    {
     "name": "stdout",
     "output_type": "stream",
     "text": [
      "functools.partial(<function gpt at 0x7ff6a0d99bd0>, model='gpt-4', temperature=0.7)\n",
      "-- new_ys --: ('10 - 4 = 6 (left: 5 6 6)\\n', '6 - 4 = 2 (left: 2 5 10)\\n', '10 - 5 = 5 (left: 4 5 6)\\n', '6 / 4 = 1.5 (left: 1.5 5 10)\\n', '6 + 4 = 10 (left: 5 10 10)\\n', '4 + 5 = 9 (left: 6 9 10)\\n', '10 / 5 = 2 (left: 2 4 6)\\n', '5 * 4 = 20 (left: 6 10 20)\\n')\n",
      "-- sol values --: (3.0, 3.0, 3.0, 3.0, 3.0, 2.001, 2.001, 0.003)\n",
      "-- choices --: ['10 - 4 = 6 (left: 5 6 6)\\n', '6 - 4 = 2 (left: 2 5 10)\\n', '10 - 5 = 5 (left: 4 5 6)\\n', '6 / 4 = 1.5 (left: 1.5 5 10)\\n', '6 + 4 = 10 (left: 5 10 10)\\n']\n",
      "\n",
      "-- new_ys --: ('10 - 4 = 6 (left: 5 6 6)\\n5 * 6 = 30 (left: 6 30)\\n', '6 / 4 = 1.5 (left: 1.5 5 10)\\n5 - 1.5 = 3.5 (left: 3.5 5 10)\\n', '6 / 4 = 1.5 (left: 1.5 5 10)\\n10 / 1.5 = 6.67 (approx.) (left: 5 6.67 10)\\n', '6 / 4 = 1.5 (left: 1.5 5 10)\\n5 / 1.5 = 3.33 (approx.) (left: 3.33 5 10)\\n', '6 / 4 = 1.5 (left: 1.5 5 10)\\n10 - 5 = 5 (left: 1.5 5 5)\\n', '6 / 4 = 1.5 (left: 1.5 5 10)\\n10 / 5 = 2 (left: 1.5 2 10)\\n', '10 - 4 = 6 (left: 5 6 6)\\n6 / 5 = 1.2 (left: 1.2 6)\\n', '6 - 4 = 2 (left: 2 5 10)\\n10 - 2 = 8 (left: 5 8)\\n', '10 - 4 = 6 (left: 5 6 6)\\n5 + 6 = 11 (left: 6 11)\\n', '10 - 4 = 6 (left: 5 6 6)\\n6 - 5 = 1 (left: 1 6)\\n', '10 - 4 = 6 (left: 5 6 6)\\n6 / 6 = 1 (left: 5 1)\\n', '10 - 4 = 6 (left: 5 6 6)\\n6 * 6 = 36 (left: 5 36)\\n', '10 - 4 = 6 (left: 5 6 6)\\n5 - 6 = -1 (left: -1 6)\\n', '6 - 4 = 2 (left: 2 5 10)\\n2 + 5 = 7 (left: 7 10)\\n', '6 - 4 = 2 (left: 2 5 10)\\n10 / 2 = 5 (left: 5 5)\\n', '6 - 4 = 2 (left: 2 5 10)\\n2 * 5 = 10 (left: 10 10)\\n', '6 - 4 = 2 (left: 2 5 10)\\n10 - 5 = 5 (left: 2 5)\\n', '6 - 4 = 2 (left: 2 5 10)\\n2 * 10 = 20 (left: 5 20)\\n', '6 - 4 = 2 (left: 2 5 10)\\n5 * 10 = 50 (left: 2 50)\\n', '6 - 4 = 2 (left: 2 5 10)\\n10 / 5 = 2 (left: 2 2)\\n', '10 - 5 = 5 (left: 4 5 6)\\n4 + 5 = 9 (left: 6 9)\\n', '10 - 5 = 5 (left: 4 5 6)\\n5 - 4 = 1 (left: 1 6)\\n', '10 - 5 = 5 (left: 4 5 6)\\n6 - 4 = 2 (left: 2 5)\\n', '10 - 5 = 5 (left: 4 5 6)\\n6 - 5 = 1 (left: 1 4)\\n', '10 - 5 = 5 (left: 4 5 6)\\n4 * 5 = 20 (left: 6 20)\\n', '10 - 5 = 5 (left: 4 5 6)\\n5 / 4 = 1.25 (left: 1.25 6)\\n', '10 - 5 = 5 (left: 4 5 6)\\n6 / 4 = 1.5 (left: 1.5 5)\\n', '10 - 5 = 5 (left: 4 5 6)\\n4 * 6 = 24 (left: 5 24)\\n', '10 - 5 = 5 (left: 4 5 6)\\n5 * 6 = 30 (left: 4 30)\\n', '6 / 4 = 1.5 (left: 1.5 5 10)\\n1.5 * 5 = 7.5 (left: 7.5 10)\\n', '6 + 4 = 10 (left: 5 10 10)\\n5 + 10 = 15 (left: 10 15)\\n', '6 + 4 = 10 (left: 5 10 10)\\n10 / 5 = 2 (left: 2 10)\\n', '6 + 4 = 10 (left: 5 10 10)\\n10 - 5 = 5 (left: 5 10)\\n', '6 + 4 = 10 (left: 5 10 10)\\n10 * 5 = 50 (left: 10 50)\\n', '6 - 4 = 2 (left: 2 5 10)\\n5 - 2 = 3 (left: 3 10)\\n')\n",
      "-- sol values --: (60.0, 3.0, 3.0, 3.0, 2.001, 2.001, 1.002, 1.002, 0.003, 0.003, 0.003, 0.003, 0.003, 0.003, 0.003, 0.003, 0.003, 0.003, 0.003, 0.003, 0.003, 0.003, 0.003, 0.003, 0.003, 0.003, 0.003, 0.003, 0.003, 0.003, 0.003, 0.003, 0.003, 0.003, 0.002)\n",
      "-- choices --: ['10 - 4 = 6 (left: 5 6 6)\\n5 * 6 = 30 (left: 6 30)\\n', '6 / 4 = 1.5 (left: 1.5 5 10)\\n5 - 1.5 = 3.5 (left: 3.5 5 10)\\n', '6 / 4 = 1.5 (left: 1.5 5 10)\\n10 / 1.5 = 6.67 (approx.) (left: 5 6.67 10)\\n', '6 / 4 = 1.5 (left: 1.5 5 10)\\n5 / 1.5 = 3.33 (approx.) (left: 3.33 5 10)\\n', '6 / 4 = 1.5 (left: 1.5 5 10)\\n10 - 5 = 5 (left: 1.5 5 5)\\n']\n",
      "\n",
      "-- new_ys --: ('10 - 4 = 6 (left: 5 6 6)\\n5 * 6 = 30 (left: 6 30)\\n30 - 6 = 24 (left: 24)\\n', '6 / 4 = 1.5 (left: 1.5 5 10)\\n10 / 1.5 = 6.67 (approx.) (left: 5 6.67 10)\\n5 + 6.67 = 11.67 (left: 10 11.67)\\n', '6 / 4 = 1.5 (left: 1.5 5 10)\\n10 / 1.5 = 6.67 (approx.) (left: 5 6.67 10)\\n10 - 5 = 5 (left: 5 6.67)\\n', '6 / 4 = 1.5 (left: 1.5 5 10)\\n5 / 1.5 = 3.33 (approx.) (left: 3.33 5 10)\\n10 - 3.33 = 6.67 (left: 5 6.67)\\n', '6 / 4 = 1.5 (left: 1.5 5 10)\\n10 / 1.5 = 6.67 (approx.) (left: 5 6.67 10)\\n10 / 5 = 2 (left: 2 6.67)\\n', '6 / 4 = 1.5 (left: 1.5 5 10)\\n5 / 1.5 = 3.33 (approx.) (left: 3.33 5 10)\\n3.33 + 5 = 8.33 (left: 8.33 10)\\n', '10 - 4 = 6 (left: 5 6 6)\\n5 * 6 = 30 (left: 6 30)\\n6 + 30 = 36 (left: 36)\\n', '10 - 4 = 6 (left: 5 6 6)\\n5 * 6 = 30 (left: 6 30)\\n30 / 6 = 5 (left: 5)\\n', '10 - 4 = 6 (left: 5 6 6)\\n5 * 6 = 30 (left: 6 30)\\n6 * 30 = 180 (left: 180)\\n', '6 / 4 = 1.5 (left: 1.5 5 10)\\n5 - 1.5 = 3.5 (left: 3.5 5 10)\\n3.5 + 5 = 8.5 (left: 8.5 10)\\n', '6 / 4 = 1.5 (left: 1.5 5 10)\\n5 - 1.5 = 3.5 (left: 3.5 5 10)\\n10 / 5 = 2 (left: 2 3.5)\\n', '6 / 4 = 1.5 (left: 1.5 5 10)\\n5 - 1.5 = 3.5 (left: 3.5 5 10)\\n10 - 3.5 = 6.5 (left: 5 6.5)\\n', '6 / 4 = 1.5 (left: 1.5 5 10)\\n5 - 1.5 = 3.5 (left: 3.5 5 10)\\n3.5 * 5 = 17.5 (left: 10 17.5)\\n', '6 / 4 = 1.5 (left: 1.5 5 10)\\n5 - 1.5 = 3.5 (left: 3.5 5 10)\\n10 - 5 = 5 (left: 3.5 5)\\n', '6 / 4 = 1.5 (left: 1.5 5 10)\\n5 - 1.5 = 3.5 (left: 3.5 5 10)\\n5 / 3.5 = 1.42857 (left: 1.42857 10)\\n', '6 / 4 = 1.5 (left: 1.5 5 10)\\n5 - 1.5 = 3.5 (left: 3.5 5 10)\\n5 - 3.5 = 1.5 (left: 1.5 10)\\n', '6 / 4 = 1.5 (left: 1.5 5 10)\\n10 / 1.5 = 6.67 (approx.) (left: 5 6.67 10)\\n6.67 - 5 = 1.67 (left: 1.67 10)\\n', '6 / 4 = 1.5 (left: 1.5 5 10)\\n10 / 1.5 = 6.67 (approx.) (left: 5 6.67 10)\\n10 - 6.67 = 3.33 (left: 3.33 5)\\n', '6 / 4 = 1.5 (left: 1.5 5 10)\\n10 / 1.5 = 6.67 (approx.) (left: 5 6.67 10)\\n5 * 6.67 = 33.35 (left: 10 33.35)\\n', '6 / 4 = 1.5 (left: 1.5 5 10)\\n5 / 1.5 = 3.33 (approx.) (left: 3.33 5 10)\\n5 - 3.33 = 1.67 (left: 1.67 10)\\n', '6 / 4 = 1.5 (left: 1.5 5 10)\\n5 / 1.5 = 3.33 (approx.) (left: 3.33 5 10)\\n10 / 3.33 = 3 (approx) (left: 3 5)\\n', '6 / 4 = 1.5 (left: 1.5 5 10)\\n5 / 1.5 = 3.33 (approx.) (left: 3.33 5 10)\\n10 - 5 = 5 (left: 3.33 5)\\n', '6 / 4 = 1.5 (left: 1.5 5 10)\\n5 / 1.5 = 3.33 (approx.) (left: 3.33 5 10)\\n5 * 3.33 = 16.65 (left: 10 16.65)\\n', '6 / 4 = 1.5 (left: 1.5 5 10)\\n5 / 1.5 = 3.33 (approx.) (left: 3.33 5 10)\\n10 / 5 = 2 (left: 2 3.33)\\n', '6 / 4 = 1.5 (left: 1.5 5 10)\\n10 - 5 = 5 (left: 1.5 5 5)\\n1.5 + 5 = 6.5 (left: 5 6.5)\\n', '6 / 4 = 1.5 (left: 1.5 5 10)\\n10 - 5 = 5 (left: 1.5 5 5)\\n5 - 1.5 = 3.5 (left: 3.5 5)\\n', '6 / 4 = 1.5 (left: 1.5 5 10)\\n10 - 5 = 5 (left: 1.5 5 5)\\n5 / 1.5 = 3.33 (rounded to two decimal places) (left: 3.33 5)\\n', '6 / 4 = 1.5 (left: 1.5 5 10)\\n10 - 5 = 5 (left: 1.5 5 5)\\n5 * 1.5 = 7.5 (left: 5 7.5)\\n')\n",
      "-- sol values --: (60.0, 2.001, 2.001, 2.001, 1.002, 1.002, 0.003, 0.003, 0.003, 0.003, 0.003, 0.003, 0.003, 0.003, 0.003, 0.003, 0.003, 0.003, 0.003, 0.003, 0.003, 0.003, 0.003, 0.003, 0.003, 0.003, 0.003, 0.003)\n",
      "-- choices --: ['10 - 4 = 6 (left: 5 6 6)\\n5 * 6 = 30 (left: 6 30)\\n30 - 6 = 24 (left: 24)\\n', '6 / 4 = 1.5 (left: 1.5 5 10)\\n10 / 1.5 = 6.67 (approx.) (left: 5 6.67 10)\\n5 + 6.67 = 11.67 (left: 10 11.67)\\n', '6 / 4 = 1.5 (left: 1.5 5 10)\\n10 / 1.5 = 6.67 (approx.) (left: 5 6.67 10)\\n10 - 5 = 5 (left: 5 6.67)\\n', '6 / 4 = 1.5 (left: 1.5 5 10)\\n5 / 1.5 = 3.33 (approx.) (left: 3.33 5 10)\\n10 - 3.33 = 6.67 (left: 5 6.67)\\n', '6 / 4 = 1.5 (left: 1.5 5 10)\\n10 / 1.5 = 6.67 (approx.) (left: 5 6.67 10)\\n10 / 5 = 2 (left: 2 6.67)\\n']\n",
      "\n",
      "-- new_ys --: ('10 - 4 = 6 (left: 5 6 6)\\n5 * 6 = 30 (left: 6 30)\\n30 - 6 = 24 (left: 24)\\nAnswer: (5 * (10 - 4)) - 6 = 24\\n', '6 / 4 = 1.5 (left: 1.5 5 10)\\n10 / 1.5 = 6.67 (approx.) (left: 5 6.67 10)\\n5 + 6.67 = 11.67 (left: 10 11.67)\\n10 + 11.67 = 21.67 (left: 21.67)\\n', '6 / 4 = 1.5 (left: 1.5 5 10)\\n10 / 1.5 = 6.67 (approx.) (left: 5 6.67 10)\\n5 + 6.67 = 11.67 (left: 10 11.67)\\n11.67 - 10 = 1.67 (left: 1.67)\\n', '6 / 4 = 1.5 (left: 1.5 5 10)\\n10 / 1.5 = 6.67 (approx.) (left: 5 6.67 10)\\n5 + 6.67 = 11.67 (left: 10 11.67)\\n10 * 11.67 = 116.7 (left: 116.7)\\n', '6 / 4 = 1.5 (left: 1.5 5 10)\\n10 / 1.5 = 6.67 (approx.) (left: 5 6.67 10)\\n5 + 6.67 = 11.67 (left: 10 11.67)\\n11.67 / 10 = 1.167 (left: 1.167)\\n', '6 / 4 = 1.5 (left: 1.5 5 10)\\n10 / 1.5 = 6.67 (approx.) (left: 5 6.67 10)\\n10 - 5 = 5 (left: 5 6.67)\\n5 + 6.67 = 11.67 (left: 11.67)\\n', '6 / 4 = 1.5 (left: 1.5 5 10)\\n10 / 1.5 = 6.67 (approx.) (left: 5 6.67 10)\\n10 - 5 = 5 (left: 5 6.67)\\n6.67 - 5 = 1.67 (left: 1.67)\\n', '6 / 4 = 1.5 (left: 1.5 5 10)\\n10 / 1.5 = 6.67 (approx.) (left: 5 6.67 10)\\n10 - 5 = 5 (left: 5 6.67)\\n5 * 6.67 = 33.35 (left: 33.35)\\n', '6 / 4 = 1.5 (left: 1.5 5 10)\\n10 / 1.5 = 6.67 (approx.) (left: 5 6.67 10)\\n10 - 5 = 5 (left: 5 6.67)\\n6.67 / 5 = 1.334 (left: 1.334)\\n', '6 / 4 = 1.5 (left: 1.5 5 10)\\n5 / 1.5 = 3.33 (approx.) (left: 3.33 5 10)\\n10 - 3.33 = 6.67 (left: 5 6.67)\\n5 + 6.67 = 11.67 (left: 11.67)\\n', '6 / 4 = 1.5 (left: 1.5 5 10)\\n5 / 1.5 = 3.33 (approx.) (left: 3.33 5 10)\\n10 - 3.33 = 6.67 (left: 5 6.67)\\n6.67 - 5 = 1.67 (left: 1.67)\\n', '6 / 4 = 1.5 (left: 1.5 5 10)\\n5 / 1.5 = 3.33 (approx.) (left: 3.33 5 10)\\n10 - 3.33 = 6.67 (left: 5 6.67)\\n6.67 / 5 = 1.334 (left: 1.334)\\n', '6 / 4 = 1.5 (left: 1.5 5 10)\\n5 / 1.5 = 3.33 (approx.) (left: 3.33 5 10)\\n10 - 3.33 = 6.67 (left: 5 6.67)\\n5 * 6.67 = 33.35 (left: 33.35)\\n', '6 / 4 = 1.5 (left: 1.5 5 10)\\n10 / 1.5 = 6.67 (approx.) (left: 5 6.67 10)\\n10 / 5 = 2 (left: 2 6.67)\\n2 + 6.67 = 8.67 (left: 8.67)\\n', '6 / 4 = 1.5 (left: 1.5 5 10)\\n10 / 1.5 = 6.67 (approx.) (left: 5 6.67 10)\\n10 / 5 = 2 (left: 2 6.67)\\n6.67 - 2 = 4.67 (left: 4.67)\\n', '6 / 4 = 1.5 (left: 1.5 5 10)\\n10 / 1.5 = 6.67 (approx.) (left: 5 6.67 10)\\n10 / 5 = 2 (left: 2 6.67)\\n2 * 6.67 = 13.34 (left: 13.34)\\n', '6 / 4 = 1.5 (left: 1.5 5 10)\\n10 / 1.5 = 6.67 (approx.) (left: 5 6.67 10)\\n10 / 5 = 2 (left: 2 6.67)\\n6.67 / 2 = 3.335 (left: 3.335)\\n')\n",
      "-- sol values --: (60.0, 0, 0, 0, 0, 0, 0, 0, 0, 0, 0, 0, 0, 0, 0, 0, 0)\n",
      "-- choices --: ['10 - 4 = 6 (left: 5 6 6)\\n5 * 6 = 30 (left: 6 30)\\n30 - 6 = 24 (left: 24)\\nAnswer: (5 * (10 - 4)) - 6 = 24\\n', '6 / 4 = 1.5 (left: 1.5 5 10)\\n10 / 1.5 = 6.67 (approx.) (left: 5 6.67 10)\\n5 + 6.67 = 11.67 (left: 10 11.67)\\n10 + 11.67 = 21.67 (left: 21.67)\\n', '6 / 4 = 1.5 (left: 1.5 5 10)\\n10 / 1.5 = 6.67 (approx.) (left: 5 6.67 10)\\n5 + 6.67 = 11.67 (left: 10 11.67)\\n11.67 - 10 = 1.67 (left: 1.67)\\n', '6 / 4 = 1.5 (left: 1.5 5 10)\\n10 / 1.5 = 6.67 (approx.) (left: 5 6.67 10)\\n5 + 6.67 = 11.67 (left: 10 11.67)\\n10 * 11.67 = 116.7 (left: 116.7)\\n', '6 / 4 = 1.5 (left: 1.5 5 10)\\n10 / 1.5 = 6.67 (approx.) (left: 5 6.67 10)\\n5 + 6.67 = 11.67 (left: 10 11.67)\\n11.67 / 10 = 1.167 (left: 1.167)\\n']\n",
      "\n",
      "['10 - 4 = 6 (left: 5 6 6)\\n5 * 6 = 30 (left: 6 30)\\n30 - 6 = 24 (left: 24)\\nAnswer: (5 * (10 - 4)) - 6 = 24\\n', '6 / 4 = 1.5 (left: 1.5 5 10)\\n10 / 1.5 = 6.67 (approx.) (left: 5 6.67 10)\\n5 + 6.67 = 11.67 (left: 10 11.67)\\n10 + 11.67 = 21.67 (left: 21.67)\\n', '6 / 4 = 1.5 (left: 1.5 5 10)\\n10 / 1.5 = 6.67 (approx.) (left: 5 6.67 10)\\n5 + 6.67 = 11.67 (left: 10 11.67)\\n11.67 - 10 = 1.67 (left: 1.67)\\n', '6 / 4 = 1.5 (left: 1.5 5 10)\\n10 / 1.5 = 6.67 (approx.) (left: 5 6.67 10)\\n5 + 6.67 = 11.67 (left: 10 11.67)\\n10 * 11.67 = 116.7 (left: 116.7)\\n', '6 / 4 = 1.5 (left: 1.5 5 10)\\n10 / 1.5 = 6.67 (approx.) (left: 5 6.67 10)\\n5 + 6.67 = 11.67 (left: 10 11.67)\\n11.67 / 10 = 1.167 (left: 1.167)\\n']\n",
      "10 - 4 = 6 (left: 5 6 6)\n",
      "5 * 6 = 30 (left: 6 30)\n",
      "30 - 6 = 24 (left: 24)\n",
      "Answer: (5 * (10 - 4)) - 6 = 24\n",
      "\n"
     ]
    }
   ],
   "source": [
    "import argparse\n",
    "from tot.methods.bfs import solve\n",
    "from tot.tasks.game24 import Game24Task\n",
    "\n",
    "args = argparse.Namespace(backend='gpt-4', temperature=0.7, task='game24', naive_run=False, prompt_sample=None, method_generate='propose', method_evaluate='value', method_select='greedy', n_generate_sample=1, n_evaluate_sample=3, n_select_sample=5)\n",
    "\n",
    "task = Game24Task()\n",
    "ys, infos = solve(args, task, 900)\n",
    "print(ys[0])"
   ]
  },
  {
   "cell_type": "markdown",
   "metadata": {},
   "source": [
    "## Paper Experiments\n",
    "\n",
    "Run experiments via ``sh scripts/{game24, text, crosswords}/{standard_sampling, cot_sampling, bfs}.sh``, except in crosswords we use a DFS algorithm for ToT, which can be run via ``scripts/crosswords/search_crosswords-dfs.ipynb``.\n",
    "\n",
    "The very simple ``run.py`` implements the ToT + BFS algorithm, as well as the naive IO/CoT sampling. Some key arguments:\n",
    "\n",
    "- ``--naive_run``: if True, run naive IO/CoT sampling instead of ToT + BFS.\n",
    "-  ``--prompt_sample`` (choices=[``standard``, ``cot``]): sampling prompt\n",
    "- ``--method_generate`` (choices=[``sample``, ``propose``]): thought generator, whether to sample independent thoughts (used in Creative Writing) or propose sequential thoughts (used in Game of 24)\n",
    "- ``--method_evaluate`` (choices=[``value``, ``vote``]): state evaluator, whether to use the value states independently (used in Game of 24) or vote on states together (used in Creative Writing)\n",
    "- ``--n_generate_sample``: number of times to prompt for thought generation\n",
    "- ``--n_evaluate_sample``: number of times to prompt for state evaluation\n",
    "- ``--n_select_sample``: number of states to keep from each step (i.e. ``b`` in the paper's ToT + BFS algorithm)"
   ]
  },
  {
   "cell_type": "code",
   "execution_count": 1,
   "metadata": {},
   "outputs": [
    {
     "name": "stdout",
     "output_type": "stream",
     "text": [
      "Namespace(backend='gpt-4', temperature=0.7, task='crosswords', task_start_index=0, task_end_index=20, naive_run=True, prompt_sample='standard', method_generate=None, method_evaluate=None, method_select='greedy', n_generate_sample=10, n_evaluate_sample=1, n_select_sample=1)\n",
      "functools.partial(<function gpt at 0x7f7746b272e0>, model='gpt-4', temperature=0.7)\n",
      "^C\n",
      "Traceback (most recent call last):\n",
      "  File \"/home/awkwabear/miniconda3/envs/tot/lib/python3.10/site-packages/backoff/_sync.py\", line 105, in retry\n",
      "    ret = target(*args, **kwargs)\n",
      "  File \"/home/awkwabear/tree-of-thought-llm/src/tot/models.py\", line 20, in completions_with_backoff\n",
      "    return openai.ChatCompletion.create(**kwargs)\n",
      "  File \"/home/awkwabear/miniconda3/envs/tot/lib/python3.10/site-packages/openai/api_resources/chat_completion.py\", line 25, in create\n",
      "    return super().create(*args, **kwargs)\n",
      "  File \"/home/awkwabear/miniconda3/envs/tot/lib/python3.10/site-packages/openai/api_resources/abstract/engine_api_resource.py\", line 153, in create\n",
      "    response, _, api_key = requestor.request(\n",
      "  File \"/home/awkwabear/miniconda3/envs/tot/lib/python3.10/site-packages/openai/api_requestor.py\", line 230, in request\n",
      "    resp, got_stream = self._interpret_response(result, stream)\n",
      "  File \"/home/awkwabear/miniconda3/envs/tot/lib/python3.10/site-packages/openai/api_requestor.py\", line 624, in _interpret_response\n",
      "    self._interpret_response_line(\n",
      "  File \"/home/awkwabear/miniconda3/envs/tot/lib/python3.10/site-packages/openai/api_requestor.py\", line 687, in _interpret_response_line\n",
      "    raise self.handle_error_response(\n",
      "openai.error.RateLimitError: Request too large for gpt-4 in organization org-nCmlW2CZioAY4KIMMBf8hEnI on tokens per min (TPM): Limit 10000, Requested 10531. The input or output tokens must be reduced in order to run successfully. Visit https://platform.openai.com/account/rate-limits to learn more.\n",
      "\n",
      "During handling of the above exception, another exception occurred:\n",
      "\n",
      "Traceback (most recent call last):\n",
      "  File \"/home/awkwabear/tree-of-thought-llm/run.py\", line 69, in <module>\n",
      "    run(args)\n",
      "  File \"/home/awkwabear/tree-of-thought-llm/run.py\", line 21, in run\n",
      "    ys, info = naive_solve(args, task, i) \n",
      "  File \"/home/awkwabear/tree-of-thought-llm/src/tot/methods/bfs.py\", line 95, in naive_solve\n",
      "    ys = get_samples(task, x, '', args.n_generate_sample, args.prompt_sample, stop=None)\n",
      "  File \"/home/awkwabear/tree-of-thought-llm/src/tot/methods/bfs.py\", line 46, in get_samples\n",
      "    samples = gpt(prompt, n=n_generate_sample, stop=stop)\n",
      "  File \"/home/awkwabear/tree-of-thought-llm/src/tot/models.py\", line 24, in gpt\n",
      "    return chatgpt(messages, model=model, temperature=temperature, max_tokens=max_tokens, n=n, stop=stop)\n",
      "  File \"/home/awkwabear/tree-of-thought-llm/src/tot/models.py\", line 32, in chatgpt\n",
      "    res = completions_with_backoff(model=model, messages=messages, temperature=temperature, max_tokens=max_tokens, n=cnt, stop=stop)\n",
      "  File \"/home/awkwabear/miniconda3/envs/tot/lib/python3.10/site-packages/backoff/_sync.py\", line 127, in retry\n",
      "    time.sleep(seconds)\n",
      "KeyboardInterrupt\n"
     ]
    }
   ],
   "source": [
    "!sh scripts/crosswords/standard_sampling.sh"
   ]
  },
  {
   "cell_type": "markdown",
   "metadata": {},
   "source": [
    "## Paper Trajectories\n",
    "``logs/`` contains all the trajectories from the paper's experiments, except for ``logs/game24/gpt-4_0.7_propose1_value3_greedy5_start900_end1000.json`` which was reproduced after the paper (as the original experiment was done in a notebook) and achieved a 69\\% score instead of the original 74\\% score due to randomness in GPT decoding. We hope to aggregate multiple runs in the future to account for sampling randomness and update the paper, but this shouldn't affect the main conclusions of the paper.\n",
    "\n",
    "## How to Add A New Task\n",
    "Setting up a new task is easy, and mainly involves two steps.\n",
    "* Set up a new task class in ``tot/tasks/`` and task files in ``tot/data/``. See ``tot/tasks/game24.py`` for an example. Add the task to ``tot/tasks/__init__.py``.\n",
    "* Set up task-specific prompts in ``tot/prompts/``. See ``tot/prompts/game24.py`` for an example. Depending on the nature of the task, choose ``--method_generate`` (choices=[``sample``, ``propose``]) and ``--method_evaluate`` (choices=[``value``, ``vote``]) and their corresponding prompts. \n"
   ]
  }
 ],
 "metadata": {
  "kernelspec": {
   "display_name": "tot",
   "language": "python",
   "name": "python3"
  },
  "language_info": {
   "codemirror_mode": {
    "name": "ipython",
    "version": 3
   },
   "file_extension": ".py",
   "mimetype": "text/x-python",
   "name": "python",
   "nbconvert_exporter": "python",
   "pygments_lexer": "ipython3",
   "version": "3.10.15"
  }
 },
 "nbformat": 4,
 "nbformat_minor": 2
}
